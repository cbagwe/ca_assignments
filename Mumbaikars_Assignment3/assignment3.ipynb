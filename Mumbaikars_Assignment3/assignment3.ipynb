{
 "cells": [
  {
   "cell_type": "code",
   "execution_count": 74,
   "id": "f1495f64",
   "metadata": {},
   "outputs": [],
   "source": [
    "#import statements\n",
    "import json\n",
    "import numpy as np\n",
    "import random\n",
    "import re\n",
    "import spacy\n",
    "\n",
    "from sklearn.feature_extraction.text import CountVectorizer\n",
    "from nltk.stem import PorterStemmer\n",
    "from textblob import TextBlob"
   ]
  },
  {
   "cell_type": "code",
   "execution_count": 20,
   "id": "d48d3dcd",
   "metadata": {},
   "outputs": [],
   "source": [
    "# get training dataset \n",
    "with open(\"train-data-prepared.json\", \"r\") as f:\n",
    "    train_data = json.load(f)\n",
    "# get training dataset \n",
    "with open(\"val-data-prepared.json\", \"r\") as f:\n",
    "    val_data = json.load(f)\n",
    "# get testing dataset \n",
    "with open(\"val-data-prepared.json\", \"r\") as f:\n",
    "    test_data = json.load(f)\n"
   ]
  },
  {
   "cell_type": "code",
   "execution_count": 21,
   "id": "1ca5dfef",
   "metadata": {},
   "outputs": [],
   "source": [
    "#create spacy object\n",
    "nlp_english = spacy.load(\"en_core_web_sm\")\n",
    "#create Stemmer object\n",
    "stemmer = PorterStemmer()"
   ]
  },
  {
   "cell_type": "code",
   "execution_count": 46,
   "id": "75720802",
   "metadata": {},
   "outputs": [
    {
     "name": "stdout",
     "output_type": "stream",
     "text": [
      "dict_keys(['train_ids', 'train_text', 'train_label', 'val_ids', 'val_text', 'val_label', 'test_ids', 'test_text', 'test_label'])\n"
     ]
    }
   ],
   "source": [
    "entire_dataset = {\n",
    "    'train_ids': [thread[\"id\"] for thread in train_data],\n",
    "    'train_posts': [thread[\"preceding_posts\"] for thread in train_data],\n",
    "    'train_label': [thread[\"label\"] for thread in train_data],\n",
    "    \n",
    "    'val_ids': [thread[\"id\"] for thread in val_data],\n",
    "    'val_posts': [thread[\"preceding_posts\"] for thread in val_data],\n",
    "    'val_label': [thread[\"label\"] for thread in val_data],\n",
    "    \n",
    "    'test_ids': [thread[\"id\"] for thread in test_data],\n",
    "    'test_posts': [thread[\"preceding_posts\"] for thread in test_data],\n",
    "    'test_label': [thread[\"label\"] for thread in test_data],\n",
    "}\n",
    "\n",
    "print(entire_dataset.keys())"
   ]
  },
  {
   "cell_type": "code",
   "execution_count": 52,
   "id": "86e7d5c4",
   "metadata": {},
   "outputs": [],
   "source": [
    "#for thread in val_data:\n",
    "#    authors = []\n",
    "#    for comment in thread[\"preceding_posts\"]:\n",
    "#        if comment[\"author_name\"] not in authors:\n",
    "#            authors.append(comment[\"author_name\"])\n",
    "#    \n",
    "#    if len(authors) >= 2:\n",
    "#        print(thread[\"id\"])"
   ]
  },
  {
   "cell_type": "code",
   "execution_count": 65,
   "id": "f85d4fe3",
   "metadata": {},
   "outputs": [
    {
     "name": "stdout",
     "output_type": "stream",
     "text": [
      "['idiot', 'stupid', 'ass', 'crazi', 'screw', 'you']\n",
      "['a', 'right', 'because', 'women', 'are', 'non', 'sexual', 'creatures', 'who', 'would', 'never', 'use', 'prostitutes', 'themselves', 'i', 'think', 'you', 'vastly', 'overestimate', 'the', 'number', 'of', 'women', 'that', 'pay', 'for', 'sex']\n"
     ]
    }
   ],
   "source": [
    "# remove punctuation, space, urls from text\n",
    "def clean_text(text):\n",
    "    text = re.sub('[^A-Za-z0-9]+', ' ', text)\n",
    "    parsed_text = nlp_english(text)\n",
    "    clean_text = []\n",
    "    for token in parsed_text:\n",
    "        stop_flag = (token.is_punct or token.is_space or  \n",
    "                 token.like_url)\n",
    "        if (not stop_flag):\n",
    "            clean_text.append(token.text.lower())\n",
    "    return clean_text\n",
    "\n",
    "def stem_text(text):\n",
    "    return [stemmer.stem(word) for word in clean_text(text)]\n",
    "\n",
    "print(stem_text(\"idiot stupid ass crazy screw you !\"))\n",
    "print(clean_text(\"> a) right, because women are non-sexual creatures who would never use prostitutes themselves\\n\\ni think you vastly overestimate the number of women that pay for sex...\"))"
   ]
  },
  {
   "cell_type": "code",
   "execution_count": 47,
   "id": "baff7374",
   "metadata": {},
   "outputs": [
    {
     "name": "stdout",
     "output_type": "stream",
     "text": [
      "[0, 0, 0, 0]\n"
     ]
    }
   ],
   "source": [
    "# checks if the OP has addressed the other person in some way\n",
    "def check_insults(text):\n",
    "    return [\n",
    "        1 if \"ass\" in text else 0,\n",
    "        1 if \"idiot\" in text else 0,\n",
    "        1 if \"screw\" in text else 0,\n",
    "        1 if \"stupid\" in text else 0\n",
    "    ]\n",
    "        \n",
    "#print(check_insults(clean_text(\"> a) right, because women are non-sexual creatures who would never use prostitutes themselves\\n\\ni think you vastly overestimate the number of women that pay for sex...\")))"
   ]
  },
  {
   "cell_type": "code",
   "execution_count": 91,
   "id": "4c8ed80c",
   "metadata": {},
   "outputs": [],
   "source": [
    "# should return one feature vector for one string\n",
    "# features -> Author's turn, length of argument, insults, sentiment\n",
    "def gather_data(thread, train_data_flag = False):\n",
    "    returnObj = {}\n",
    "    for i in range(len(thread[\"preceding_posts\"])):\n",
    "        comment_data = {}\n",
    "        comment = thread[\"preceding_posts\"][i]\n",
    "        # clean text\n",
    "        comment_data[\"text\"] = stem_text(comment[\"body\"])\n",
    "        # author's identity: \n",
    "        # Assuming 3 dialogues, the authors will have indices 0,1,2\n",
    "        # 0,2 would be the OP\n",
    "        # 1 would be the reply\n",
    "        comment_data[\"author_turn_vec\"] = [i % 2]\n",
    "        # Length just in case of Godwin's Law\n",
    "        comment_data[\"char_length_vec\"] = [len(\"\".join(clean_text(comment[\"body\"])))]\n",
    "        # check for some common insults\n",
    "        comment_data[\"insults_vec\"] = check_insults(comment_data[\"text\"])\n",
    "        # get sentiment\n",
    "        sentiment = TextBlob(' '.join(comment_data[\"text\"])).sentiment\n",
    "        comment_data[\"sentiment\"] =  [sentiment.polarity, sentiment.subjectivity]\n",
    "        feature_vec = [\n",
    "            *comment_data[\"author_turn_vec\"], \n",
    "            *comment_data[\"char_length_vec\"], \n",
    "            *comment_data[\"insults_vec\"], \n",
    "            *comment_data[\"sentiment\"]\n",
    "        ]\n",
    "        \n",
    "        returnObj[\" \".join(comment_data[\"text\"])] = feature_vec\n",
    "        \n",
    "    return returnObj"
   ]
  },
  {
   "cell_type": "code",
   "execution_count": 92,
   "id": "7204dd15",
   "metadata": {},
   "outputs": [
    {
     "name": "stdout",
     "output_type": "stream",
     "text": [
      "{'a right becaus women are non sexual creatur who would never use prostitut themselv i think you vastli overestim the number of women that pay for sex': [0, 132, 0, 0, 0, 0, 0.39285714285714285, 0.6845238095238095], 'becaus it s illeg in our realiti vs the propos realiti that me op and everyon els on thi thread are comment about keep up qwert': [1, 113, 0, 0, 0, 0, 0.0, 0.0], 'i live in a nation were it is complet legal to pay for sex surround by other nation where it is also mostli legal guess what no woman pay for sex and you ll notic that it be illeg in the us doesn t stop men from go to prostitut keep up bunchanumb edit for context it s a first world nation with consider more liber attitud regard sex then the us': [0, 305, 0, 0, 0, 0, 0.19356060606060607, 0.3513888888888889]}\n",
      "\n",
      "{'becaus make prostitut legal make it veri much more difficult to polic thi as ha been found repeatedli in countri around the world the women who are brought into the countri can t be question becaus there is no legal justif to do so as the job they are do are legal thi is what s been found everywher from nevada to germani to australia': [0, 299, 0, 0, 0, 0, 0.059999999999999984, 0.42000000000000004], 'i d be interest in read up on thi do you have a sourc that exemplifi what you are refer to and also can t the cop question you or ask to see your immigr statu even without a warrant if voluntari': [1, 173, 0, 0, 0, 0, 0.0, 0.0]}\n",
      "\n",
      "{'http en wikipedia org wiki federalist no 68 thi is specif about how to elect a presid which is the focu of our discuss and unfortun i can t find a book i wa just read on the subject have just move wa call the earli decad or earli year or someth but read it in american histori class in colleg if i come across it today i ll cite a few more passag deal with thi issu in justifi the use of the elector colleg hamilton focus on a few argument deal with whi the colleg is use as oppos to direct elect first in explain the role of the gener populac in the elect of the presid hamilton argu that the sens of the peopl through the elect of the elector to the colleg should have a part of the process the final say howev lie with the elector who hamilton note are men most capabl of analyz the qualiti adapt to the station and act under circumst favor to deliber and to a judici combin of all the reason and induc which were proper to govern their choic therefor the direct elect of the presid is left up to those who have been select by the voter to becom the elector the indirect elect is justifi by hamilton becaus while a republ is still serv the system allow for onli a certain type of person to be elect presid prevent individu who are unfit for a varieti of reason to be in the posit of chief execut of the countri basic you dumb dumb s can t be trust we need men most capabl of analyz the qualiti adapt to the station and act under circumst favor to deliber and to a judici combin of all the reason and induc which were proper to govern their choic read the paper it s kinda funni how relev it is to trump and whi there should be an elector colleg and whi we can t trust a major a lot of the safeguard hamilton envis have been eras by technolog though': [0, 1638, 0, 0, 0, 0, 0.25038919413919414, 0.49473443223443225], 'whi are you link wikipedia and not direct text whi are none of your origin claim back up in case you d actual like to read the text and not just snippet here s the actual federalist paper which you claim to have read http www congress gov resourc display content the federalist paper thefederalistpap 68 litterslli read thi paper 0 of your assert are back up': [1, 321, 0, 0, 0, 0, -0.01, 0.12], 'i put the wiki becaus i figur you may want a synopsi and i wa right do do it becaus perhap your read comprehens is bad sinc it wa written back in the day what do you think hamilton wa say there the immedi elect should be made by men most capabl of analyz the qualiti adapt to the station and act under circumst favor to deliber and to a judici combin of all the reason and induc which were proper to govern their choic a small number of person select by their fellow citizen from the gener mass will be most like to possess the inform and discern requisit to such complic investig who do you think he s talk about here rural farmer the process of elect afford a moral certainti that the offic of presid will never fall to the lot of ani man who is not in an emin degre endow with the requisit qualif talent for low intrigu and the littl art of popular may alon suffic to elev a man to the first honor in a singl state but it will requir other talent and a differ kind of merit to establish him in the esteem and confid of the whole union or of so consider a portion of it as would be necessari to make him a success candid for the distinguish offic of presid of the unit state here he s basic say by thi process we can weed out idiot who can win a popular contest with the mass in a state but not the presid he didn t forese cabl news and social media unfortun honestli if you read it what do you think the messag wa': [0, 1319, 0, 0, 1, 0, 0.19976190476190475, 0.4620952380952382]}\n",
      "\n",
      "{'real properti ha a logic absolut necess to be regist under what logic in an environ where properti ownership exist we need to know what properti belong to what person i need to know whether i m build my hous on land that actual belong to me if i expand my properti by 10 feet that s 10 feet less of properti belong to my neighbor so i m not just allow to do that to report my neighbor for trespass i need to prove that properti is mine not hi line need to be drawn and those line need to be regist with the govern to enforc properti relat law you can t reli on that s mine i m of the opinion that heller wa wrongli decid i wonder how do you approach the right protect by the 1st 4th 5th and other amend do you take an expans individualist approach if so whi do you singl out the 2nd for a restrict collect approach rememb grammat speak the present participl about militia doe not restrict the mean of the independ claus grammat the right state is pre exist and uncondit a well school elector be necessari to the secur of a free state the right of the peopl to keep and read book shall not be infring is an equival sentenc in grammar and mean would you interpret thi to mean that we can onli have and read book when act collect in our capac as the elector mani area have registr and court have not seen anyth wrong with that would you be okay with have to regist everyth you print with the govern so they could identifi you if a wit didn t see who someon wa in a crime but there s a natur suspect for other reason and the wit can either confirm or disconfirm someth about the perpetr then that s relev evid and now we just have to hope that crimin regist hi firearm rememb we can not forc him to do it nor punish him for fail to do it you find out if he ha that firearm by build enough evid for a search warrant search and find the firearm then you have one specif firearm you can attempt to match you do thi same as you would a hammer or chainsaw or ani other deadli implement': [0, 1802, 0, 0, 0, 0, -0.02610119047619048, 0.41931547619047616], 'in an environ where properti ownership exist we need to know what properti belong to what person i need to know whether i m build my hous on land that actual belong to me if i expand my properti by 10 feet that s 10 feet less of properti belong to my neighbor so i m not just allow to do that to report my neighbor for trespass i need to prove that properti is mine not hi line need to be drawn and those line need to be regist with the govern to enforc properti relat law you can t reli on that s mine actual a lot of societi have not had central properti registr at all some have simpli use individu document with wit for exampl and the person with the properti kept the document thi wa for exampl use by the ancient jew and a similar system wa use in some mediev area but even if that weren t the case it wouldn t make thi a logic necess but rather a system with it posit and neg as ani system ha and in thi case the system s posit outweigh the neg your paragraph actual doesn t examin four of the major reason we realli have properti regist in modern societi first there s liabil if someth happen with someon s properti we want to know who is respons for it second there s scale it is difficult to scale up system where peopl keep their person deed up to a larg scale with big citi and the like third there s properti tax mani locat have properti tax and central record of real estat are necessari to administ such system fourth modern zone is veri hard to do with out such central but note that none of these reason are logic necess they are appar posit of the system which in thi case outweigh the benefit of privaci i wonder how do you approach the right protect by the 1st 4th 5th and other amend do you take an expans individualist approach if so whi do you singl out the 2nd for a restrict collect approach the histori and intent of the amend is what matter here the militia are what becam the nation guard not privat citizen rememb grammat speak the present participl about militia doe not restrict the mean of the independ claus grammat the right state is pre exist and uncondit a well school elector be necessari to the secur of a free state the right of the peopl to keep and read book shall not be infring is an equival sentenc in grammar and mean would you interpret thi to mean that we can onli have and read book when act collect in our capac as the elector the problem isn t the grammar by itself but note that it doe actual say the peopl wherea the other amend don t use that phrase and that certainli ha a collect connot but the essenti problem here isn t grammat it is that we had liter over 200 year where pretti much everyon agre what the intend mean of thi wa and it is onli in the last 40 or 50 year that anyon ha taken these expans read of the 2nd amend serious it realli may help for you to read the dissent in heller if a wit didn t see who someon wa in a crime but there s a natur suspect for other reason and the wit can either confirm or disconfirm someth about the perpetr then that s relev evid and now we just have to hope that crimin regist hi firearm rememb we can not forc him to do it nor punish him for fail to do it someth which while interest i disagre with and would in ani event under current preced onli appli to peopl who are alreadi have crimin record and again if thi realli is a problem then the logic respons to have an amend narrow or abolish the 2nd amend outright you find out if he ha that firearm by build enough evid for a search warrant search and find the firearm then you have one specif firearm you can attempt to match you do thi same as you would a hammer or chainsaw or ani other deadli implement firearm are substanti more deadli and like to be use in crimin activ than hammer or chainsaw and one relev type of evid for get a warrant is doe he or someon he live with have a regist firearm of a relev type': [1, 3555, 0, 0, 0, 0, -0.015326253607503608, 0.33973214285714287]}\n",
      "\n",
      "{'are you realli defend multin not be greedi tri nestl and their idea on human right water isn t one of them life they knew perfectli well their babyformula would result in dead infant and even when the dead were there they continu they onli stop after public outrag public outrag in the west that is': [0, 270, 0, 0, 0, 0, -0.019047619047619053, 0.26150793650793647], 'are you realli defend multin not be greedi thi sentenc doesn t realli make sens but i m go to guess no not sure what point you re tri to make and water is not a human right it is a natur resourc': [1, 178, 0, 0, 0, 0, 0.011904761904761899, 0.5082010582010582], 'thi sentenc doesn t realli make sens eli5 do you think multin can suffer from greed or are they exempt and water is not a human right it is a natur resourc are you claim a human be that ha no money ha no right to water you do realis a person need water to surviv do you': [0, 237, 0, 0, 0, 0, 0.03571428571428571, 0.31785714285714284]}\n",
      "\n"
     ]
    }
   ],
   "source": [
    "# print features for some 10 tuples\n",
    "for thread in train_data[:5]:\n",
    "    print(gather_data(thread))\n",
    "    print()"
   ]
  },
  {
   "cell_type": "code",
   "execution_count": null,
   "id": "80b5f26c",
   "metadata": {},
   "outputs": [],
   "source": [
    "entire_dataset[\"train_prep\"] = [gather_data(thread) for thread in train_data]\n",
    "\n",
    "entire_dataset[\"val_prep\"] = [gather_data(thread) for thread in val_data]\n",
    "\n",
    "entire_dataset[\"test_prep\"] = [gather_data(thread) for thread in test_data]"
   ]
  },
  {
   "cell_type": "code",
   "execution_count": 95,
   "id": "76bbdcbe",
   "metadata": {},
   "outputs": [
    {
     "name": "stdout",
     "output_type": "stream",
     "text": [
      "[['a right becaus women are non sexual creatur who would never use prostitut themselv i think you vastli overestim the number of women that pay for sex', [0, 132, 0, 0, 0, 0, 0.39285714285714285, 0.6845238095238095]], ['becaus it s illeg in our realiti vs the propos realiti that me op and everyon els on thi thread are comment about keep up qwert', [1, 113, 0, 0, 0, 0, 0.0, 0.0]], ['i live in a nation were it is complet legal to pay for sex surround by other nation where it is also mostli legal guess what no woman pay for sex and you ll notic that it be illeg in the us doesn t stop men from go to prostitut keep up bunchanumb edit for context it s a first world nation with consider more liber attitud regard sex then the us', [0, 305, 0, 0, 0, 0, 0.19356060606060607, 0.3513888888888889]]]\n",
      "[['becaus make prostitut legal make it veri much more difficult to polic thi as ha been found repeatedli in countri around the world the women who are brought into the countri can t be question becaus there is no legal justif to do so as the job they are do are legal thi is what s been found everywher from nevada to germani to australia', [0, 299, 0, 0, 0, 0, 0.059999999999999984, 0.42000000000000004]], ['i d be interest in read up on thi do you have a sourc that exemplifi what you are refer to and also can t the cop question you or ask to see your immigr statu even without a warrant if voluntari', [1, 173, 0, 0, 0, 0, 0.0, 0.0]]]\n",
      "[['http en wikipedia org wiki federalist no 68 thi is specif about how to elect a presid which is the focu of our discuss and unfortun i can t find a book i wa just read on the subject have just move wa call the earli decad or earli year or someth but read it in american histori class in colleg if i come across it today i ll cite a few more passag deal with thi issu in justifi the use of the elector colleg hamilton focus on a few argument deal with whi the colleg is use as oppos to direct elect first in explain the role of the gener populac in the elect of the presid hamilton argu that the sens of the peopl through the elect of the elector to the colleg should have a part of the process the final say howev lie with the elector who hamilton note are men most capabl of analyz the qualiti adapt to the station and act under circumst favor to deliber and to a judici combin of all the reason and induc which were proper to govern their choic therefor the direct elect of the presid is left up to those who have been select by the voter to becom the elector the indirect elect is justifi by hamilton becaus while a republ is still serv the system allow for onli a certain type of person to be elect presid prevent individu who are unfit for a varieti of reason to be in the posit of chief execut of the countri basic you dumb dumb s can t be trust we need men most capabl of analyz the qualiti adapt to the station and act under circumst favor to deliber and to a judici combin of all the reason and induc which were proper to govern their choic read the paper it s kinda funni how relev it is to trump and whi there should be an elector colleg and whi we can t trust a major a lot of the safeguard hamilton envis have been eras by technolog though', [0, 1638, 0, 0, 0, 0, 0.25038919413919414, 0.49473443223443225]], ['whi are you link wikipedia and not direct text whi are none of your origin claim back up in case you d actual like to read the text and not just snippet here s the actual federalist paper which you claim to have read http www congress gov resourc display content the federalist paper thefederalistpap 68 litterslli read thi paper 0 of your assert are back up', [1, 321, 0, 0, 0, 0, -0.01, 0.12]], ['i put the wiki becaus i figur you may want a synopsi and i wa right do do it becaus perhap your read comprehens is bad sinc it wa written back in the day what do you think hamilton wa say there the immedi elect should be made by men most capabl of analyz the qualiti adapt to the station and act under circumst favor to deliber and to a judici combin of all the reason and induc which were proper to govern their choic a small number of person select by their fellow citizen from the gener mass will be most like to possess the inform and discern requisit to such complic investig who do you think he s talk about here rural farmer the process of elect afford a moral certainti that the offic of presid will never fall to the lot of ani man who is not in an emin degre endow with the requisit qualif talent for low intrigu and the littl art of popular may alon suffic to elev a man to the first honor in a singl state but it will requir other talent and a differ kind of merit to establish him in the esteem and confid of the whole union or of so consider a portion of it as would be necessari to make him a success candid for the distinguish offic of presid of the unit state here he s basic say by thi process we can weed out idiot who can win a popular contest with the mass in a state but not the presid he didn t forese cabl news and social media unfortun honestli if you read it what do you think the messag wa', [0, 1319, 0, 0, 1, 0, 0.19976190476190475, 0.4620952380952382]]]\n",
      "[['real properti ha a logic absolut necess to be regist under what logic in an environ where properti ownership exist we need to know what properti belong to what person i need to know whether i m build my hous on land that actual belong to me if i expand my properti by 10 feet that s 10 feet less of properti belong to my neighbor so i m not just allow to do that to report my neighbor for trespass i need to prove that properti is mine not hi line need to be drawn and those line need to be regist with the govern to enforc properti relat law you can t reli on that s mine i m of the opinion that heller wa wrongli decid i wonder how do you approach the right protect by the 1st 4th 5th and other amend do you take an expans individualist approach if so whi do you singl out the 2nd for a restrict collect approach rememb grammat speak the present participl about militia doe not restrict the mean of the independ claus grammat the right state is pre exist and uncondit a well school elector be necessari to the secur of a free state the right of the peopl to keep and read book shall not be infring is an equival sentenc in grammar and mean would you interpret thi to mean that we can onli have and read book when act collect in our capac as the elector mani area have registr and court have not seen anyth wrong with that would you be okay with have to regist everyth you print with the govern so they could identifi you if a wit didn t see who someon wa in a crime but there s a natur suspect for other reason and the wit can either confirm or disconfirm someth about the perpetr then that s relev evid and now we just have to hope that crimin regist hi firearm rememb we can not forc him to do it nor punish him for fail to do it you find out if he ha that firearm by build enough evid for a search warrant search and find the firearm then you have one specif firearm you can attempt to match you do thi same as you would a hammer or chainsaw or ani other deadli implement', [0, 1802, 0, 0, 0, 0, -0.02610119047619048, 0.41931547619047616]], ['in an environ where properti ownership exist we need to know what properti belong to what person i need to know whether i m build my hous on land that actual belong to me if i expand my properti by 10 feet that s 10 feet less of properti belong to my neighbor so i m not just allow to do that to report my neighbor for trespass i need to prove that properti is mine not hi line need to be drawn and those line need to be regist with the govern to enforc properti relat law you can t reli on that s mine actual a lot of societi have not had central properti registr at all some have simpli use individu document with wit for exampl and the person with the properti kept the document thi wa for exampl use by the ancient jew and a similar system wa use in some mediev area but even if that weren t the case it wouldn t make thi a logic necess but rather a system with it posit and neg as ani system ha and in thi case the system s posit outweigh the neg your paragraph actual doesn t examin four of the major reason we realli have properti regist in modern societi first there s liabil if someth happen with someon s properti we want to know who is respons for it second there s scale it is difficult to scale up system where peopl keep their person deed up to a larg scale with big citi and the like third there s properti tax mani locat have properti tax and central record of real estat are necessari to administ such system fourth modern zone is veri hard to do with out such central but note that none of these reason are logic necess they are appar posit of the system which in thi case outweigh the benefit of privaci i wonder how do you approach the right protect by the 1st 4th 5th and other amend do you take an expans individualist approach if so whi do you singl out the 2nd for a restrict collect approach the histori and intent of the amend is what matter here the militia are what becam the nation guard not privat citizen rememb grammat speak the present participl about militia doe not restrict the mean of the independ claus grammat the right state is pre exist and uncondit a well school elector be necessari to the secur of a free state the right of the peopl to keep and read book shall not be infring is an equival sentenc in grammar and mean would you interpret thi to mean that we can onli have and read book when act collect in our capac as the elector the problem isn t the grammar by itself but note that it doe actual say the peopl wherea the other amend don t use that phrase and that certainli ha a collect connot but the essenti problem here isn t grammat it is that we had liter over 200 year where pretti much everyon agre what the intend mean of thi wa and it is onli in the last 40 or 50 year that anyon ha taken these expans read of the 2nd amend serious it realli may help for you to read the dissent in heller if a wit didn t see who someon wa in a crime but there s a natur suspect for other reason and the wit can either confirm or disconfirm someth about the perpetr then that s relev evid and now we just have to hope that crimin regist hi firearm rememb we can not forc him to do it nor punish him for fail to do it someth which while interest i disagre with and would in ani event under current preced onli appli to peopl who are alreadi have crimin record and again if thi realli is a problem then the logic respons to have an amend narrow or abolish the 2nd amend outright you find out if he ha that firearm by build enough evid for a search warrant search and find the firearm then you have one specif firearm you can attempt to match you do thi same as you would a hammer or chainsaw or ani other deadli implement firearm are substanti more deadli and like to be use in crimin activ than hammer or chainsaw and one relev type of evid for get a warrant is doe he or someon he live with have a regist firearm of a relev type', [1, 3555, 0, 0, 0, 0, -0.015326253607503608, 0.33973214285714287]]]\n",
      "[['are you realli defend multin not be greedi tri nestl and their idea on human right water isn t one of them life they knew perfectli well their babyformula would result in dead infant and even when the dead were there they continu they onli stop after public outrag public outrag in the west that is', [0, 270, 0, 0, 0, 0, -0.019047619047619053, 0.26150793650793647]], ['are you realli defend multin not be greedi thi sentenc doesn t realli make sens but i m go to guess no not sure what point you re tri to make and water is not a human right it is a natur resourc', [1, 178, 0, 0, 0, 0, 0.011904761904761899, 0.5082010582010582]], ['thi sentenc doesn t realli make sens eli5 do you think multin can suffer from greed or are they exempt and water is not a human right it is a natur resourc are you claim a human be that ha no money ha no right to water you do realis a person need water to surviv do you', [0, 237, 0, 0, 0, 0, 0.03571428571428571, 0.31785714285714284]]]\n",
      "13\n"
     ]
    }
   ],
   "source": [
    "for text in entire_dataset[\"train_prep\"][:5]:\n",
    "    print(text)\n",
    "\n",
    "#train_bow_input = [text.keys() for text in entire_dataset[\"train_prep\"]]\n",
    "#val_bow_input = []\n",
    "#test_bow_input = []\n",
    "\n",
    "print(len(train_bow_input))"
   ]
  },
  {
   "cell_type": "code",
   "execution_count": null,
   "id": "2ff99f86",
   "metadata": {},
   "outputs": [],
   "source": [
    "vectorizer = CountVectorizer()\n",
    "\n"
   ]
  },
  {
   "cell_type": "code",
   "execution_count": 32,
   "id": "1233c2fe",
   "metadata": {},
   "outputs": [],
   "source": [
    "# random classification for baseline score\n",
    "\n",
    "random_val = {t_id: random.randint(0,1) for t_id in val_ids}\n",
    "random_test = {t_id: random.randint(0,1) for t_id in test_ids}\n"
   ]
  },
  {
   "cell_type": "code",
   "execution_count": 33,
   "id": "9c226fbf",
   "metadata": {},
   "outputs": [],
   "source": [
    "with open(\"val-random-output.json\", \"w\") as f:\n",
    "    json.dump(random_val, f)\n",
    "# get testing dataset \n",
    "with open(\"test-random-output.json\", \"w\") as f:\n",
    "    json.dump(random_test, f)\n"
   ]
  },
  {
   "cell_type": "code",
   "execution_count": null,
   "id": "ec6e3c12",
   "metadata": {},
   "outputs": [],
   "source": []
  }
 ],
 "metadata": {
  "kernelspec": {
   "display_name": "Python 3",
   "language": "python",
   "name": "python3"
  },
  "language_info": {
   "codemirror_mode": {
    "name": "ipython",
    "version": 3
   },
   "file_extension": ".py",
   "mimetype": "text/x-python",
   "name": "python",
   "nbconvert_exporter": "python",
   "pygments_lexer": "ipython3",
   "version": "3.9.0"
  }
 },
 "nbformat": 4,
 "nbformat_minor": 5
}
